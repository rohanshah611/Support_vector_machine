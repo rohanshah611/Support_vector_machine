{
 "cells": [
  {
   "cell_type": "code",
   "execution_count": 1,
   "metadata": {},
   "outputs": [],
   "source": [
    "import numpy as np\n",
    "import matplotlib.pyplot as plt\n",
    "%matplotlib inline\n",
    "from sklearn import linear_model, preprocessing"
   ]
  },
  {
   "cell_type": "markdown",
   "metadata": {},
   "source": [
    "Loading DataSet\n",
    "emnist-digits.mat: This is a file of digits 0 to 9, but with more examples per class.\n",
    "emnist-letters.mat: This is a file of letters a/A to z/Z. The lower and upper case letters are grouped into the same class."
   ]
  },
  {
   "cell_type": "code",
   "execution_count": 2,
   "metadata": {},
   "outputs": [],
   "source": [
    "import scipy.io\n",
    "def load_emnist(file_path='emnist-digits.mat'):\n",
    " \n",
    "        mat = scipy.io.loadmat(file_path)\n",
    " # Get the training data\n",
    "        Xtr = mat['dataset'][0][0][0][0][0][0][:]\n",
    "        ntr = Xtr.shape[0]\n",
    "        ytr = mat['dataset'][0][0][0][0][0][1][:].reshape(ntr).astype(int)\n",
    "     # Get the test data\n",
    "        Xts = mat['dataset'][0][0][1][0][0][0][:]\n",
    "        nts = Xts.shape[0]\n",
    "        yts = mat['dataset'][0][0][1][0][0][1][:].reshape(nts).astype(int)\n",
    "        print(\"%d training samples, %d test samples loaded\" % (ntr, nts))\n",
    "        return [Xtr, Xts, ytr, yts]"
   ]
  },
  {
   "cell_type": "code",
   "execution_count": 3,
   "metadata": {},
   "outputs": [
    {
     "name": "stdout",
     "output_type": "stream",
     "text": [
      "240000 training samples, 40000 test samples loaded\n"
     ]
    }
   ],
   "source": [
    "Xtr_dig, Xts_dig, ytr_dig, yts_dig = load_emnist()"
   ]
  },
  {
   "cell_type": "code",
   "execution_count": 4,
   "metadata": {},
   "outputs": [],
   "source": [
    "import scipy.io\n",
    "def load_emnist1(file_path='emnist-letters.mat'):\n",
    " \n",
    "    mat = scipy.io.loadmat(file_path)\n",
    "\n",
    " # Get the training data\n",
    "    Xtr = mat['dataset'][0][0][0][0][0][0][:]\n",
    "    ntr = Xtr.shape[0]\n",
    "    ytr = mat['dataset'][0][0][0][0][0][1][:].reshape(ntr).astype(int)\n",
    "\n",
    " # Get the test data\n",
    "    Xts = mat['dataset'][0][0][1][0][0][0][:]\n",
    "    nts = Xts.shape[0]\n",
    "    yts = mat['dataset'][0][0][1][0][0][1][:].reshape(nts).astype(int)\n",
    "\n",
    "    print(\"%d training samples, %d test samples loaded\" % (ntr, nts))\n",
    "    return [Xtr, Xts, ytr, yts]\n"
   ]
  },
  {
   "cell_type": "code",
   "execution_count": 5,
   "metadata": {},
   "outputs": [
    {
     "name": "stdout",
     "output_type": "stream",
     "text": [
      "124800 training samples, 20800 test samples loaded\n"
     ]
    }
   ],
   "source": [
    "Xtr_let, Xts_let, ytr_let, yts_let = load_emnist1()"
   ]
  },
  {
   "cell_type": "markdown",
   "metadata": {},
   "source": [
    "function to plot the digits:"
   ]
  },
  {
   "cell_type": "code",
   "execution_count": 6,
   "metadata": {},
   "outputs": [],
   "source": [
    "def plt_digit(x,y=None):\n",
    "    nrow = 28\n",
    "    ncol = 28\n",
    "    xsq = x.reshape((nrow,ncol))\n",
    "    plt.imshow(xsq.T, cmap='Greys_r')\n",
    "    plt.xticks([])\n",
    "    plt.yticks([])\n",
    "    if y != None:\n",
    "        plt.title('%d' % y)"
   ]
  },
  {
   "cell_type": "code",
   "execution_count": 7,
   "metadata": {},
   "outputs": [
    {
     "data": {
      "image/png": "[encoded data removed]",
      "text/plain": [
       "<Figure size 432x288 with 1 Axes>"
      ]
     },
     "metadata": {},
     "output_type": "display_data"
    },
    {
     "data": {
      "image/png": "[encoded data removed]",
      "text/plain": [
       "<Figure size 720x1440 with 1 Axes>"
      ]
     },
     "metadata": {},
     "output_type": "display_data"
    },
    {
     "data": {
      "image/png": "[encoded data removed]",
      "text/plain": [
       "<Figure size 720x1440 with 1 Axes>"
      ]
     },
     "metadata": {},
     "output_type": "display_data"
    },
    {
     "data": {
      "image/png": "[encoded data removed]",
      "text/plain": [
       "<Figure size 720x1440 with 1 Axes>"
      ]
     },
     "metadata": {},
     "output_type": "display_data"
    },
    {
     "data": {
      "image/png": "[encoded data removed]",
      "text/plain": [
       "<Figure size 720x1440 with 1 Axes>"
      ]
     },
     "metadata": {},
     "output_type": "display_data"
    },
    {
     "data": {
      "image/png": "[encoded data removed]",
      "text/plain": [
       "<Figure size 720x1440 with 1 Axes>"
      ]
     },
     "metadata": {},
     "output_type": "display_data"
    },
    {
     "data": {
      "image/png": "[encoded data removed]",
      "text/plain": [
       "<Figure size 720x1440 with 1 Axes>"
      ]
     },
     "metadata": {},
     "output_type": "display_data"
    },
    {
     "data": {
      "image/png": "[encoded data removed]",
      "text/plain": [
       "<Figure size 720x1440 with 1 Axes>"
      ]
     },
     "metadata": {},
     "output_type": "display_data"
    },
    {
     "data": {
      "text/plain": [
       "<Figure size 720x1440 with 0 Axes>"
      ]
     },
     "metadata": {},
     "output_type": "display_data"
    }
   ],
   "source": [
    "nplt = 8\n",
    "nsamp = Xtr_dig.shape[0]\n",
    "Iperm = np.random.permutation(nsamp)\n",
    "# Plot the images using the subplot command\n",
    "for i in range(nplt):\n",
    "    ind = Iperm[i]\n",
    "    plt.subplot(1,nplt,i+1)\n",
    "    plt_digit(Xtr_dig[ind,:])\n",
    "    plt.figure(figsize=(10,20))"
   ]
  },
  {
   "cell_type": "code",
   "execution_count": 8,
   "metadata": {},
   "outputs": [
    {
     "data": {
      "image/png": "[encoded data removed]",
      "text/plain": [
       "<Figure size 432x288 with 1 Axes>"
      ]
     },
     "metadata": {},
     "output_type": "display_data"
    },
    {
     "data": {
      "image/png": "[encoded data removed]",
      "text/plain": [
       "<Figure size 720x1440 with 1 Axes>"
      ]
     },
     "metadata": {},
     "output_type": "display_data"
    },
    {
     "data": {
      "image/png": "[encoded data removed]",
      "text/plain": [
       "<Figure size 720x1440 with 1 Axes>"
      ]
     },
     "metadata": {},
     "output_type": "display_data"
    },
    {
     "data": {
      "image/png": "[encoded data removed]",
      "text/plain": [
       "<Figure size 720x1440 with 1 Axes>"
      ]
     },
     "metadata": {},
     "output_type": "display_data"
    },
    {
     "data": {
      "image/png": "[encoded data removed]",
      "text/plain": [
       "<Figure size 720x1440 with 1 Axes>"
      ]
     },
     "metadata": {},
     "output_type": "display_data"
    },
    {
     "data": {
      "image/png": "[encoded data removed]",
      "text/plain": [
       "<Figure size 720x1440 with 1 Axes>"
      ]
     },
     "metadata": {},
     "output_type": "display_data"
    },
    {
     "data": {
      "image/png": "[encoded data removed]",
      "text/plain": [
       "<Figure size 720x1440 with 1 Axes>"
      ]
     },
     "metadata": {},
     "output_type": "display_data"
    },
    {
     "data": {
      "image/png": "[encoded data removed]",
      "text/plain": [
       "<Figure size 720x1440 with 1 Axes>"
      ]
     },
     "metadata": {},
     "output_type": "display_data"
    },
    {
     "data": {
      "text/plain": [
       "<Figure size 720x1440 with 0 Axes>"
      ]
     },
     "metadata": {},
     "output_type": "display_data"
    }
   ],
   "source": [
    "nplt = 8\n",
    "nsamp = Xtr_let.shape[0]\n",
    "Iperm = np.random.permutation(nsamp)\n",
    "# Plot the images using the subplot command\n",
    "for i in range(nplt):\n",
    "    ind = Iperm[i] \n",
    "    plt.subplot(1,nplt,i+1)\n",
    "    plt_digit(Xtr_let[ind,:])\n",
    "    plt.figure(figsize=(10,20))"
   ]
  },
  {
   "cell_type": "markdown",
   "metadata": {},
   "source": [
    "For fast training we group all the letters into a single class of letters.\n",
    "Each digit would have it's own class.\n",
    "Before Training we remove all the letters corresponding to i/I, l/L and o/O. The reason is that these letters would get confused with the digits 0 and 1.\n",
    "Created arrays Xtr_let_rem and ytr_let_rem from the data Xtr_let and ytr_let, where the samples i with ytr_let[i] == 9, 12 or 15 are removed. Created Xts_let_rem and yts_let_rem similarly."
   ]
  },
  {
   "cell_type": "code",
   "execution_count": 13,
   "metadata": {},
   "outputs": [
    {
     "data": {
      "text/plain": [
       "(124800, 784)"
      ]
     },
     "execution_count": 13,
     "metadata": {},
     "output_type": "execute_result"
    }
   ],
   "source": [
    "remove_list = np.array([9,12,15])\n",
    "temp=[]\n",
    "for i in range(124800):\n",
    "    if(np.all(ytr_let[i]==9) or np.all(ytr_let[i]==12) or np.all(ytr_let[i]==15)):\n",
    "        temp.append(i)\n",
    "temp=np.array(temp)\n",
    "#temp=np.reshape(temp,(14400,1))\n",
    "ytr_let_rem=np.delete(ytr_let,temp)\n",
    "Xtr_let_rem=np.delete(Xtr_let,temp,axis=0)\n",
    "Xtr_let_rem.shape\n",
    "Xtr_let.shape\n"
   ]
  },
  {
   "cell_type": "code",
   "execution_count": 10,
   "metadata": {},
   "outputs": [],
   "source": [
    "temp1=[]\n",
    "for i in range(20800):\n",
    "    if(np.all(yts_let[i]==9) or np.all(yts_let[i]==12) or np.all(yts_let[i]==15)):\n",
    "        temp1.append(i)\n",
    "temp1=np.array(temp1)\n",
    "#temp1=np.reshape(temp1,(2400,1))\n",
    "yts_let_rem=np.delete(yts_let,temp1)\n",
    "Xts_let_rem=np.delete(Xts_let,temp1,axis=0)"
   ]
  },
  {
   "cell_type": "markdown",
   "metadata": {},
   "source": [
    "Since training and testing an SVM is VERY SLOW, we will use only a small subset of the training and test data"
   ]
  },
  {
   "cell_type": "code",
   "execution_count": 11,
   "metadata": {},
   "outputs": [],
   "source": [
    "ntr_dig = 5000\n",
    "ntr_let = 1000\n",
    "nts_dig = 5000\n",
    "nts_let = 1000"
   ]
  },
  {
   "cell_type": "code",
   "execution_count": 14,
   "metadata": {},
   "outputs": [],
   "source": [
    "ytr_dig=np.reshape(ytr_dig,(240000,1))\n",
    "temp=np.append(Xtr_dig,ytr_dig,axis=1)\n",
    "temp.shape\n",
    "Xtr_digtemp=temp[:,:784]\n",
    "ytr_digtemp=temp[:,784]\n",
    "Xtr1_dig=Xtr_digtemp[:5000,:]\n",
    "ytr1_dig=ytr_digtemp[:5000]\n"
   ]
  },
  {
   "cell_type": "code",
   "execution_count": 15,
   "metadata": {},
   "outputs": [],
   "source": [
    "yts_dig=np.reshape(yts_dig,(40000,1))\n",
    "temp=np.append(Xts_dig,yts_dig,axis=1)\n",
    "temp.shape\n",
    "Xts_digtemp=temp[:,:784]\n",
    "yts_digtemp=temp[:,784]\n",
    "Xts1_dig=Xts_digtemp[:5000,:]\n",
    "yts1_dig=yts_digtemp[:5000]\n"
   ]
  },
  {
   "cell_type": "code",
   "execution_count": 16,
   "metadata": {},
   "outputs": [],
   "source": [
    "ytr_let_rem=np.reshape(ytr_let_rem,(110400,1))\n",
    "temp=np.append(Xtr_let_rem,ytr_let_rem,axis=1)\n",
    "temp.shape\n",
    "Xtr_lettemp=temp[:,:784]\n",
    "ytr_lettemp=temp[:,784]\n",
    "Xtr1_let=Xtr_lettemp[:1000,:]\n",
    "ytr1_let=ytr_lettemp[:1000]\n"
   ]
  },
  {
   "cell_type": "code",
   "execution_count": 17,
   "metadata": {},
   "outputs": [],
   "source": [
    "yts_let_rem=np.reshape(yts_let_rem,(18400,1))\n",
    "temp=np.append(Xts_let_rem,yts_let_rem,axis=1)\n",
    "temp.shape\n",
    "Xts_lettemp=temp[:,:784]\n",
    "yts_lettemp=temp[:,784]\n",
    "Xts1_let=Xts_lettemp[:1000,:]\n",
    "yts1_let=yts_lettemp[:1000]"
   ]
  },
  {
   "cell_type": "markdown",
   "metadata": {},
   "source": [
    "we create data by combining the digit and letter arrays.\n",
    "\n",
    "Create an array Xtr by stacking Xtr1_dig, Xtr1_let. This should result in 6000 total samples.\n",
    "Create a new label vector ytr where ytr[i] = ytr1_dig[i] for any digit sample and ytr[i]=10 for any letter sample. Thus, all the letters are lumped into a single class with label 11.\n"
   ]
  },
  {
   "cell_type": "code",
   "execution_count": 18,
   "metadata": {},
   "outputs": [],
   "source": [
    "Xtr=np.vstack((Xtr1_dig,Xtr1_let))\n",
    "Xts=np.vstack((Xts1_dig,Xts1_let))"
   ]
  },
  {
   "cell_type": "code",
   "execution_count": 25,
   "metadata": {},
   "outputs": [],
   "source": [
    "for i in range(ntr_let):\n",
    "    ytr1_let[i]=10\n",
    "    yts1_let[i]=10"
   ]
  },
  {
   "cell_type": "code",
   "execution_count": 26,
   "metadata": {},
   "outputs": [],
   "source": [
    "ytr=np.hstack((ytr1_dig,ytr1_let))\n",
    "yts=np.hstack((yts1_dig,yts1_let))"
   ]
  },
  {
   "cell_type": "code",
   "execution_count": 27,
   "metadata": {},
   "outputs": [],
   "source": [
    "Xtr1 = Xtr/255.0*2 - 1\n",
    "Xts1 = Xts/255.0*2 - 1"
   ]
  },
  {
   "cell_type": "markdown",
   "metadata": {},
   "source": [
    "Using an rbf classifier with C=2.8 and gamma=.0073 from SVM classifier"
   ]
  },
  {
   "cell_type": "code",
   "execution_count": 28,
   "metadata": {},
   "outputs": [],
   "source": [
    "from sklearn import svm\n",
    "svc = svm.SVC(probability=False, kernel=\"rbf\", C=2.8, gamma=.0073)"
   ]
  },
  {
   "cell_type": "code",
   "execution_count": 29,
   "metadata": {},
   "outputs": [
    {
     "name": "stdout",
     "output_type": "stream",
     "text": [
      "Accuaracy = 0.916000\n"
     ]
    }
   ],
   "source": [
    "svc.fit(Xtr1,ytr)\n",
    "yhat_ts = svc.predict(Xts1)\n",
    "acc = np.mean(yhat_ts == yts)\n",
    "print('Accuaracy = {0:f}'.format(acc))"
   ]
  },
  {
   "cell_type": "code",
   "execution_count": 30,
   "metadata": {},
   "outputs": [
    {
     "name": "stdout",
     "output_type": "stream",
     "text": [
      "[[0.94  0.    0.    0.    0.002 0.002 0.004 0.    0.    0.    0.03 ]\n",
      " [0.    0.985 0.    0.    0.    0.    0.    0.    0.    0.    0.007]\n",
      " [0.004 0.002 0.901 0.    0.    0.    0.    0.008 0.006 0.    0.042]\n",
      " [0.    0.    0.008 0.913 0.    0.012 0.    0.002 0.01  0.    0.025]\n",
      " [0.    0.    0.    0.    0.877 0.    0.002 0.    0.    0.011 0.058]\n",
      " [0.002 0.    0.    0.008 0.    0.92  0.    0.    0.006 0.    0.032]\n",
      " [0.    0.    0.    0.    0.    0.008 0.923 0.    0.002 0.    0.033]\n",
      " [0.    0.    0.    0.    0.    0.    0.    0.973 0.    0.011 0.008]\n",
      " [0.    0.002 0.002 0.002 0.    0.002 0.    0.    0.885 0.006 0.05 ]\n",
      " [0.    0.002 0.    0.    0.    0.    0.    0.015 0.002 0.937 0.021]\n",
      " [0.046 0.006 0.038 0.019 0.036 0.    0.047 0.    0.051 0.006 0.872]]\n"
     ]
    },
    {
     "data": {
      "text/plain": [
       "<matplotlib.colorbar.Colorbar at 0x2ba5efdf788>"
      ]
     },
     "execution_count": 30,
     "metadata": {},
     "output_type": "execute_result"
    },
    {
     "data": {
      "image/png": "[encoded data removed]",
      "text/plain": [
       "<Figure size 432x288 with 2 Axes>"
      ]
     },
     "metadata": {
      "needs_background": "light"
     },
     "output_type": "display_data"
    }
   ],
   "source": [
    "from sklearn.metrics import confusion_matrix\n",
    "C = confusion_matrix(yts,yhat_ts)\n",
    "# Normalize the confusion matrix\n",
    "Csum = np.sum(C,1)\n",
    "C = C / Csum[None,:]\n",
    "# Print the confusion matrix\n",
    "print(np.array_str(C, precision=3, suppress_small=True))\n",
    "plt.imshow(C, interpolation='none')\n",
    "plt.colorbar()"
   ]
  },
  {
   "cell_type": "code",
   "execution_count": null,
   "metadata": {},
   "outputs": [],
   "source": []
  },
  {
   "cell_type": "code",
   "execution_count": 31,
   "metadata": {},
   "outputs": [],
   "source": [
    "C_test = [0.1,1,10]\n",
    "gam_test = [0.001,0.01,0.1]\n",
    "nC = len(C_test)\n",
    "ngam = len(gam_test)\n",
    "acc = np.zeros((nC,ngam))\n"
   ]
  },
  {
   "cell_type": "code",
   "execution_count": 34,
   "metadata": {},
   "outputs": [
    {
     "name": "stdout",
     "output_type": "stream",
     "text": [
      "[[0.79016667 0.58783333 0.16666667]\n",
      " [0.86883333 0.89566667 0.21816667]\n",
      " [0.90366667 0.90266667 0.22      ]]\n"
     ]
    }
   ],
   "source": [
    "for i, c in enumerate(C_test):\n",
    "    for j, gam in enumerate(gam_test):\n",
    "        from sklearn import svm\n",
    "        svc = svm.SVC(probability=False, kernel=\"rbf\", C =c, gamma=gam)\n",
    "        svc.fit(Xtr1,ytr)\n",
    "        yhat_ts = svc.predict(Xts1)\n",
    "        accuracy = np.mean(yhat_ts == yts)\n",
    "        acc[i,j]=accuracy\n",
    "print(acc)\n",
    "\n",
    "    "
   ]
  },
  {
   "cell_type": "code",
   "execution_count": 40,
   "metadata": {},
   "outputs": [
    {
     "name": "stdout",
     "output_type": "stream",
     "text": [
      "[0.79016667 0.58783333 0.16666667]\n",
      "[0.86883333 0.89566667 0.21816667]\n",
      "[0.90366667 0.90266667 0.22      ]\n",
      "[array([0.79016667, 0.58783333, 0.16666667]), array([0.86883333, 0.89566667, 0.21816667]), array([0.90366667, 0.90266667, 0.22      ])]\n"
     ]
    }
   ],
   "source": [
    "accuracy=[]\n",
    "for i in acc:\n",
    "    print(i)\n",
    "    accuracy.append(i)\n",
    "print(accuracy)"
   ]
  },
  {
   "cell_type": "code",
   "execution_count": 36,
   "metadata": {},
   "outputs": [
    {
     "name": "stdout",
     "output_type": "stream",
     "text": [
      "maximum accuracy is 0.7901666666666667\n"
     ]
    }
   ],
   "source": [
    "print('maximum accuracy is {}'.format(max(acc[0])))"
   ]
  },
  {
   "cell_type": "code",
   "execution_count": null,
   "metadata": {},
   "outputs": [],
   "source": []
  },
  {
   "cell_type": "code",
   "execution_count": null,
   "metadata": {},
   "outputs": [],
   "source": []
  },
  {
   "cell_type": "code",
   "execution_count": null,
   "metadata": {},
   "outputs": [],
   "source": []
  },
  {
   "cell_type": "code",
   "execution_count": null,
   "metadata": {},
   "outputs": [],
   "source": []
  },
  {
   "cell_type": "code",
   "execution_count": null,
   "metadata": {},
   "outputs": [],
   "source": []
  },
  {
   "cell_type": "code",
   "execution_count": null,
   "metadata": {},
   "outputs": [],
   "source": []
  },
  {
   "cell_type": "code",
   "execution_count": null,
   "metadata": {},
   "outputs": [],
   "source": []
  },
  {
   "cell_type": "code",
   "execution_count": null,
   "metadata": {},
   "outputs": [],
   "source": []
  },
  {
   "cell_type": "code",
   "execution_count": null,
   "metadata": {},
   "outputs": [],
   "source": []
  },
  {
   "cell_type": "code",
   "execution_count": null,
   "metadata": {},
   "outputs": [],
   "source": []
  }
 ],
 "metadata": {
  "kernelspec": {
   "display_name": "Python 3.7 (tensorflow)",
   "language": "python",
   "name": "tensorflow"
  },
  "language_info": {
   "codemirror_mode": {
    "name": "ipython",
    "version": 3
   },
   "file_extension": ".py",
   "mimetype": "text/x-python",
   "name": "python",
   "nbconvert_exporter": "python",
   "pygments_lexer": "ipython3",
   "version": "3.7.7"
  }
 },
 "nbformat": 4,
 "nbformat_minor": 4
}
